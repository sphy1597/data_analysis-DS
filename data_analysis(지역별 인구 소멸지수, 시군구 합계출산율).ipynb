{
  "nbformat": 4,
  "nbformat_minor": 0,
  "metadata": {
    "colab": {
      "provenance": [],
      "collapsed_sections": [],
      "authorship_tag": "ABX9TyMJwUuPLSFNIH77j7dT1VkV",
      "include_colab_link": true
    },
    "kernelspec": {
      "name": "python3",
      "display_name": "Python 3"
    },
    "language_info": {
      "name": "python"
    }
  },
  "cells": [
    {
      "cell_type": "markdown",
      "metadata": {
        "id": "view-in-github",
        "colab_type": "text"
      },
      "source": [
        "<a href=\"https://colab.research.google.com/github/sphy1597/data_analysis-DS/blob/main/data_analysis(%EC%A7%80%EC%97%AD%EB%B3%84%20%EC%9D%B8%EA%B5%AC%20%EC%86%8C%EB%A9%B8%EC%A7%80%EC%88%98%2C%20%EC%8B%9C%EA%B5%B0%EA%B5%AC%20%ED%95%A9%EA%B3%84%EC%B6%9C%EC%82%B0%EC%9C%A8).ipynb\" target=\"_parent\"><img src=\"https://colab.research.google.com/assets/colab-badge.svg\" alt=\"Open In Colab\"/></a>"
      ]
    },
    {
      "cell_type": "markdown",
      "source": [
        "#**지역별 인구 소멸지수**\n",
        "\n"
      ],
      "metadata": {
        "id": "f0DH4q2lHG7R"
      }
    },
    {
      "cell_type": "code",
      "execution_count": null,
      "metadata": {
        "id": "qUJ2mO5l1GJv"
      },
      "outputs": [],
      "source": [
        "import numpy as np\n",
        "import pandas as pd\n",
        "import math\n",
        "\n",
        "df1 = pd.read_excel('/content/지방소멸위험지수 2017_2020.xlsx',index_col=0)\n",
        "df2 = pd.read_excel('/content/소멸지수2021.xlsx', index_col=0)\n",
        "\n",
        "new_df = pd.concat([df1, df2]) # df1, df2 병합\n",
        "\n",
        "df_sample = new_df.sort_values(by=['시도', '시군구', '연도'], axis=0)\n",
        "\n",
        "df_sample1 = df_sample.round(2) # 소수점자리 2까지만 나오게 하기\n",
        "\n",
        "extinction_df = df_sample1.reset_index(drop=True)\n",
        "\n",
        "extinction_df\n"
      ]
    },
    {
      "cell_type": "code",
      "source": [
        "extinction_df.to_excel('지방소멸지수2017-2021.xlsx')"
      ],
      "metadata": {
        "id": "BMqrXRUl2Rn-"
      },
      "execution_count": 76,
      "outputs": []
    },
    {
      "cell_type": "markdown",
      "source": [
        "#**합계출산율**"
      ],
      "metadata": {
        "id": "LNi4O__wHURI"
      }
    },
    {
      "cell_type": "code",
      "source": [],
      "metadata": {
        "id": "VrT-6JU37kpZ"
      },
      "execution_count": null,
      "outputs": []
    },
    {
      "cell_type": "code",
      "source": [
        "import pandas as pd\n",
        "\n",
        "df = pd.read_excel('/content/시군구_합계출산율2017~2021.xlsx')\n"
      ],
      "metadata": {
        "id": "6rryZ1GwHTLW"
      },
      "execution_count": null,
      "outputs": []
    },
    {
      "cell_type": "code",
      "source": [
        "df17 = df.drop(['2018','2019','2020','2021'],axis=1)\n",
        "df17['연도'] = 2017\n",
        "df17 = df17.rename(columns={'2017':'합계출산율'})\n",
        "\n",
        "df18 = df.drop(['2017','2019','2020','2021'],axis=1)\n",
        "df18['연도'] = 2018\n",
        "df18 = df18.rename(columns={'2018':'합계출산율'})\n",
        "\n",
        "df19 = df.drop(['2017','2018','2020','2021'],axis=1)\n",
        "df19['연도'] = 2019\n",
        "df19 = df19.rename(columns={'2019':'합계출산율'})\n",
        "\n",
        "df20 = df.drop(['2017','2018','2019','2021'],axis=1)\n",
        "df20['연도'] = 2020\n",
        "df20 = df20.rename(columns={'2020':'합계출산율'})\n",
        "\n",
        "df21 = df.drop(['2017','2018','2019','2020'],axis=1)\n",
        "df21['연도'] = 2021\n",
        "df21 = df21.rename(columns={'2021':'합계출산율'})\n"
      ],
      "metadata": {
        "id": "Mls40wIyJI3I"
      },
      "execution_count": 146,
      "outputs": []
    },
    {
      "cell_type": "code",
      "source": [
        "fertility_df = pd.concat([df17, df18, df19, df20, df21])\n",
        "fertility_df = fertility_df.reindex(columns=['시도', '시군구', '연도', '합계출산율'])\n",
        "\n",
        "#fertility_df.dtypes # 타입확인\n",
        "#fertility_df = fertility_df.astype({'연도':'int32'}) #연도 타입 float64-> int 변경\n",
        "\n",
        "fertility_df = fertility_df.sort_values(by=['시도', '시군구', '연도'], axis=0)\n",
        "fertility_df = fertility_df.reset_index(drop=True)\n",
        "fertility_df\n",
        "\n",
        "#256개의 행정구역 * 5(17년~21년) = 1280개"
      ],
      "metadata": {
        "colab": {
          "base_uri": "https://localhost:8080/",
          "height": 424
        },
        "id": "dCyWKFmFNnNY",
        "outputId": "d1c8efbe-4366-42df-9afe-e262eabf016c"
      },
      "execution_count": 177,
      "outputs": [
        {
          "output_type": "execute_result",
          "data": {
            "text/plain": [
              "        시도     시군구    연도  합계출산율\n",
              "0      강원도  　　　강릉시  2017  1.025\n",
              "1      강원도  　　　강릉시  2018  1.004\n",
              "2      강원도  　　　강릉시  2019  0.959\n",
              "3      강원도  　　　강릉시  2020  0.945\n",
              "4      강원도  　　　강릉시  2021  0.904\n",
              "...    ...     ...   ...    ...\n",
              "1275  충청북도  　　　흥덕구  2017  1.205\n",
              "1276  충청북도  　　　흥덕구  2018  1.126\n",
              "1277  충청북도  　　　흥덕구  2019  0.993\n",
              "1278  충청북도  　　　흥덕구  2020  0.968\n",
              "1279  충청북도  　　　흥덕구  2021  0.954\n",
              "\n",
              "[1280 rows x 4 columns]"
            ],
            "text/html": [
              "\n",
              "  <div id=\"df-731d51d2-bbce-4bb6-b63f-eee33afab0fd\">\n",
              "    <div class=\"colab-df-container\">\n",
              "      <div>\n",
              "<style scoped>\n",
              "    .dataframe tbody tr th:only-of-type {\n",
              "        vertical-align: middle;\n",
              "    }\n",
              "\n",
              "    .dataframe tbody tr th {\n",
              "        vertical-align: top;\n",
              "    }\n",
              "\n",
              "    .dataframe thead th {\n",
              "        text-align: right;\n",
              "    }\n",
              "</style>\n",
              "<table border=\"1\" class=\"dataframe\">\n",
              "  <thead>\n",
              "    <tr style=\"text-align: right;\">\n",
              "      <th></th>\n",
              "      <th>시도</th>\n",
              "      <th>시군구</th>\n",
              "      <th>연도</th>\n",
              "      <th>합계출산율</th>\n",
              "    </tr>\n",
              "  </thead>\n",
              "  <tbody>\n",
              "    <tr>\n",
              "      <th>0</th>\n",
              "      <td>강원도</td>\n",
              "      <td>강릉시</td>\n",
              "      <td>2017</td>\n",
              "      <td>1.025</td>\n",
              "    </tr>\n",
              "    <tr>\n",
              "      <th>1</th>\n",
              "      <td>강원도</td>\n",
              "      <td>강릉시</td>\n",
              "      <td>2018</td>\n",
              "      <td>1.004</td>\n",
              "    </tr>\n",
              "    <tr>\n",
              "      <th>2</th>\n",
              "      <td>강원도</td>\n",
              "      <td>강릉시</td>\n",
              "      <td>2019</td>\n",
              "      <td>0.959</td>\n",
              "    </tr>\n",
              "    <tr>\n",
              "      <th>3</th>\n",
              "      <td>강원도</td>\n",
              "      <td>강릉시</td>\n",
              "      <td>2020</td>\n",
              "      <td>0.945</td>\n",
              "    </tr>\n",
              "    <tr>\n",
              "      <th>4</th>\n",
              "      <td>강원도</td>\n",
              "      <td>강릉시</td>\n",
              "      <td>2021</td>\n",
              "      <td>0.904</td>\n",
              "    </tr>\n",
              "    <tr>\n",
              "      <th>...</th>\n",
              "      <td>...</td>\n",
              "      <td>...</td>\n",
              "      <td>...</td>\n",
              "      <td>...</td>\n",
              "    </tr>\n",
              "    <tr>\n",
              "      <th>1275</th>\n",
              "      <td>충청북도</td>\n",
              "      <td>흥덕구</td>\n",
              "      <td>2017</td>\n",
              "      <td>1.205</td>\n",
              "    </tr>\n",
              "    <tr>\n",
              "      <th>1276</th>\n",
              "      <td>충청북도</td>\n",
              "      <td>흥덕구</td>\n",
              "      <td>2018</td>\n",
              "      <td>1.126</td>\n",
              "    </tr>\n",
              "    <tr>\n",
              "      <th>1277</th>\n",
              "      <td>충청북도</td>\n",
              "      <td>흥덕구</td>\n",
              "      <td>2019</td>\n",
              "      <td>0.993</td>\n",
              "    </tr>\n",
              "    <tr>\n",
              "      <th>1278</th>\n",
              "      <td>충청북도</td>\n",
              "      <td>흥덕구</td>\n",
              "      <td>2020</td>\n",
              "      <td>0.968</td>\n",
              "    </tr>\n",
              "    <tr>\n",
              "      <th>1279</th>\n",
              "      <td>충청북도</td>\n",
              "      <td>흥덕구</td>\n",
              "      <td>2021</td>\n",
              "      <td>0.954</td>\n",
              "    </tr>\n",
              "  </tbody>\n",
              "</table>\n",
              "<p>1280 rows × 4 columns</p>\n",
              "</div>\n",
              "      <button class=\"colab-df-convert\" onclick=\"convertToInteractive('df-731d51d2-bbce-4bb6-b63f-eee33afab0fd')\"\n",
              "              title=\"Convert this dataframe to an interactive table.\"\n",
              "              style=\"display:none;\">\n",
              "        \n",
              "  <svg xmlns=\"http://www.w3.org/2000/svg\" height=\"24px\"viewBox=\"0 0 24 24\"\n",
              "       width=\"24px\">\n",
              "    <path d=\"M0 0h24v24H0V0z\" fill=\"none\"/>\n",
              "    <path d=\"M18.56 5.44l.94 2.06.94-2.06 2.06-.94-2.06-.94-.94-2.06-.94 2.06-2.06.94zm-11 1L8.5 8.5l.94-2.06 2.06-.94-2.06-.94L8.5 2.5l-.94 2.06-2.06.94zm10 10l.94 2.06.94-2.06 2.06-.94-2.06-.94-.94-2.06-.94 2.06-2.06.94z\"/><path d=\"M17.41 7.96l-1.37-1.37c-.4-.4-.92-.59-1.43-.59-.52 0-1.04.2-1.43.59L10.3 9.45l-7.72 7.72c-.78.78-.78 2.05 0 2.83L4 21.41c.39.39.9.59 1.41.59.51 0 1.02-.2 1.41-.59l7.78-7.78 2.81-2.81c.8-.78.8-2.07 0-2.86zM5.41 20L4 18.59l7.72-7.72 1.47 1.35L5.41 20z\"/>\n",
              "  </svg>\n",
              "      </button>\n",
              "      \n",
              "  <style>\n",
              "    .colab-df-container {\n",
              "      display:flex;\n",
              "      flex-wrap:wrap;\n",
              "      gap: 12px;\n",
              "    }\n",
              "\n",
              "    .colab-df-convert {\n",
              "      background-color: #E8F0FE;\n",
              "      border: none;\n",
              "      border-radius: 50%;\n",
              "      cursor: pointer;\n",
              "      display: none;\n",
              "      fill: #1967D2;\n",
              "      height: 32px;\n",
              "      padding: 0 0 0 0;\n",
              "      width: 32px;\n",
              "    }\n",
              "\n",
              "    .colab-df-convert:hover {\n",
              "      background-color: #E2EBFA;\n",
              "      box-shadow: 0px 1px 2px rgba(60, 64, 67, 0.3), 0px 1px 3px 1px rgba(60, 64, 67, 0.15);\n",
              "      fill: #174EA6;\n",
              "    }\n",
              "\n",
              "    [theme=dark] .colab-df-convert {\n",
              "      background-color: #3B4455;\n",
              "      fill: #D2E3FC;\n",
              "    }\n",
              "\n",
              "    [theme=dark] .colab-df-convert:hover {\n",
              "      background-color: #434B5C;\n",
              "      box-shadow: 0px 1px 3px 1px rgba(0, 0, 0, 0.15);\n",
              "      filter: drop-shadow(0px 1px 2px rgba(0, 0, 0, 0.3));\n",
              "      fill: #FFFFFF;\n",
              "    }\n",
              "  </style>\n",
              "\n",
              "      <script>\n",
              "        const buttonEl =\n",
              "          document.querySelector('#df-731d51d2-bbce-4bb6-b63f-eee33afab0fd button.colab-df-convert');\n",
              "        buttonEl.style.display =\n",
              "          google.colab.kernel.accessAllowed ? 'block' : 'none';\n",
              "\n",
              "        async function convertToInteractive(key) {\n",
              "          const element = document.querySelector('#df-731d51d2-bbce-4bb6-b63f-eee33afab0fd');\n",
              "          const dataTable =\n",
              "            await google.colab.kernel.invokeFunction('convertToInteractive',\n",
              "                                                     [key], {});\n",
              "          if (!dataTable) return;\n",
              "\n",
              "          const docLinkHtml = 'Like what you see? Visit the ' +\n",
              "            '<a target=\"_blank\" href=https://colab.research.google.com/notebooks/data_table.ipynb>data table notebook</a>'\n",
              "            + ' to learn more about interactive tables.';\n",
              "          element.innerHTML = '';\n",
              "          dataTable['output_type'] = 'display_data';\n",
              "          await google.colab.output.renderOutput(dataTable, element);\n",
              "          const docLink = document.createElement('div');\n",
              "          docLink.innerHTML = docLinkHtml;\n",
              "          element.appendChild(docLink);\n",
              "        }\n",
              "      </script>\n",
              "    </div>\n",
              "  </div>\n",
              "  "
            ]
          },
          "metadata": {},
          "execution_count": 177
        }
      ]
    },
    {
      "cell_type": "code",
      "source": [
        "fertility_df.to_excel('시군구_합계출산율2017~2021(최종).xlsx')"
      ],
      "metadata": {
        "id": "HAjNjD1yirbt"
      },
      "execution_count": null,
      "outputs": []
    }
  ]
}