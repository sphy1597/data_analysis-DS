{
  "nbformat": 4,
  "nbformat_minor": 0,
  "metadata": {
    "colab": {
      "provenance": [],
      "authorship_tag": "ABX9TyNpe9gmlIaQ+rgHNC4jE27d",
      "include_colab_link": true
    },
    "kernelspec": {
      "name": "python3",
      "display_name": "Python 3"
    },
    "language_info": {
      "name": "python"
    }
  },
  "cells": [
    {
      "cell_type": "markdown",
      "metadata": {
        "id": "view-in-github",
        "colab_type": "text"
      },
      "source": [
        "<a href=\"https://colab.research.google.com/github/sphy1597/data_analysis-DS/blob/main/%EC%9D%B8%EA%B5%AC%EC%86%8C%EB%A9%B8.ipynb\" target=\"_parent\"><img src=\"https://colab.research.google.com/assets/colab-badge.svg\" alt=\"Open In Colab\"/></a>"
      ]
    },
    {
      "cell_type": "code",
      "execution_count": 32,
      "metadata": {
        "id": "zLYBMsr5JFKN"
      },
      "outputs": [],
      "source": [
        "import pandas as pd\n",
        "df1 = pd.read_excel('/content/지방소멸위험지수.xlsx')"
      ]
    },
    {
      "cell_type": "code",
      "source": [
        "df1.head"
      ],
      "metadata": {
        "colab": {
          "base_uri": "https://localhost:8080/"
        },
        "id": "6lVx0HXlKDrE",
        "outputId": "5cca1401-6cd9-4d57-c314-f83e8edf3d6e"
      },
      "execution_count": 33,
      "outputs": [
        {
          "output_type": "execute_result",
          "data": {
            "text/plain": [
              "<bound method NDFrame.head of       시도코드       시도  시군구코드      시군구    연도       총인구  65세 이상 인구  20-39세 여성인구  \\\n",
              "0       11    서울특별시  11010      종로구  2000  186484.0    14193.0      33437.0   \n",
              "1       11    서울특별시  11010      종로구  2001  185301.5    14788.0      32736.0   \n",
              "2       11    서울특별시  11010      종로구  2002  182728.0    15223.0      31929.0   \n",
              "3       11    서울특별시  11010      종로구  2003  179375.0    15616.5      31066.5   \n",
              "4       11    서울특별시  11010      종로구  2004  175945.5    16250.0      30053.5   \n",
              "...    ...      ...    ...      ...   ...       ...        ...          ...   \n",
              "4783    39  제주특별자치도  39000  제주특별자치도  2016  628019.0    86475.0      77577.0   \n",
              "4784    39  제주특별자치도  39000  제주특별자치도  2017  644056.5    89964.5      79363.5   \n",
              "4785    39  제주특별자치도  39000  제주특별자치도  2018  656673.5    93407.5      80804.5   \n",
              "4786    39  제주특별자치도  39000  제주특별자치도  2019  663488.5    96956.5      80803.0   \n",
              "4787    39  제주특별자치도  39000  제주특별자치도  2020  667268.5   101812.5      79828.0   \n",
              "\n",
              "      지방소멸위험지수  지방소멸위험분류  \n",
              "0     2.355880         1  \n",
              "1     2.213687         1  \n",
              "2     2.097418         1  \n",
              "3     1.989338         1  \n",
              "4     1.849446         1  \n",
              "...        ...       ...  \n",
              "4783  0.897103         3  \n",
              "4784  0.882165         3  \n",
              "4785  0.865075         3  \n",
              "4786  0.833394         3  \n",
              "4787  0.784069         3  \n",
              "\n",
              "[4788 rows x 10 columns]>"
            ]
          },
          "metadata": {},
          "execution_count": 33
        }
      ]
    },
    {
      "cell_type": "code",
      "source": [
        "  # 열 값이 2017이상 인 행(index)만 저장\n",
        "  df3 = df1[df1['연도'] >= 2017]"
      ],
      "metadata": {
        "id": "v4-9IvA3TAYc"
      },
      "execution_count": 42,
      "outputs": []
    },
    {
      "cell_type": "code",
      "source": [
        "df3.head"
      ],
      "metadata": {
        "colab": {
          "base_uri": "https://localhost:8080/"
        },
        "id": "iilWGoptVkGy",
        "outputId": "2635b068-0901-4d70-931f-e0cbfcfce3c5"
      },
      "execution_count": 44,
      "outputs": [
        {
          "output_type": "execute_result",
          "data": {
            "text/plain": [
              "<bound method NDFrame.head of            시도      시군구    연도  지방소멸위험지수\n",
              "17      서울특별시      종로구  2017  0.934607\n",
              "18      서울특별시      종로구  2018  0.914077\n",
              "19      서울특별시      종로구  2019  0.886546\n",
              "20      서울특별시      종로구  2020  0.849150\n",
              "38      서울특별시       중구  2017  0.971749\n",
              "...       ...      ...   ...       ...\n",
              "4766     경상남도      합천군  2020  0.148237\n",
              "4784  제주특별자치도  제주특별자치도  2017  0.882165\n",
              "4785  제주특별자치도  제주특별자치도  2018  0.865075\n",
              "4786  제주특별자치도  제주특별자치도  2019  0.833394\n",
              "4787  제주특별자치도  제주특별자치도  2020  0.784069\n",
              "\n",
              "[912 rows x 4 columns]>"
            ]
          },
          "metadata": {},
          "execution_count": 44
        }
      ]
    },
    {
      "cell_type": "code",
      "source": [
        "df3= df3.drop(columns=['시도코드', '시군구코드','총인구','65세 이상 인구', '20-39세 여성인구','지방소멸위험분류'], axis=1)"
      ],
      "metadata": {
        "id": "MBiPSd8CV98X"
      },
      "execution_count": 43,
      "outputs": []
    },
    {
      "cell_type": "code",
      "source": [
        "df3.to_excel(\"지방소멸위험지수 2017~2020.xlsx\")"
      ],
      "metadata": {
        "id": "-EERxkTSVqvd"
      },
      "execution_count": 41,
      "outputs": []
    },
    {
      "cell_type": "code",
      "source": [],
      "metadata": {
        "id": "5gnDdlkvXOTc"
      },
      "execution_count": null,
      "outputs": []
    }
  ]
}